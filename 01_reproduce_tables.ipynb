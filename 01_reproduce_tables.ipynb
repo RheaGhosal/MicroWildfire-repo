{
 "cells": [
  {
   "cell_type": "markdown",
   "metadata": {},
   "source": [
    "# Reproduce Tables & Figures\n",
    "_Generated: 2025-10-17_\n",
    "\n",
    "This notebook demonstrates the full evaluation protocol on **synthetic data** (no datasets required):\n",
    "1. Runs the end-to-end synthetic demo.\n",
    "2. Loads outputs from `out/`.\n",
    "3. Displays fusion results and bootstrap confidence intervals.\n"
   ]
  },
  {
   "cell_type": "code",
   "execution_count": 1,
   "metadata": {
    "execution": {
     "iopub.execute_input": "2025-10-17T22:26:52.720730Z",
     "iopub.status.busy": "2025-10-17T22:26:52.719921Z",
     "iopub.status.idle": "2025-10-17T22:26:53.499446Z",
     "shell.execute_reply": "2025-10-17T22:26:53.498671Z",
     "shell.execute_reply.started": "2025-10-17T22:26:52.720687Z"
    }
   },
   "outputs": [
    {
     "name": "stdout",
     "output_type": "stream",
     "text": [
      "Python: 3.11.7 (main, Dec  8 2023, 18:56:58) [GCC 11.4.0]\n",
      "CWD: /notebooks/wildfire-repro\n"
     ]
    }
   ],
   "source": [
    "import os, sys, subprocess, json, pandas as pd, matplotlib.pyplot as plt\n",
    "from pathlib import Path\n",
    "print('Python:', sys.version)\n",
    "print('CWD:', os.getcwd())\n"
   ]
  },
  {
   "cell_type": "markdown",
   "metadata": {},
   "source": [
    "## 1) Run the synthetic demo\n",
    "This mirrors the CLI steps in the README and writes CSV/JSON to `out/`."
   ]
  },
  {
   "cell_type": "code",
   "execution_count": 4,
   "metadata": {
    "execution": {
     "iopub.execute_input": "2025-10-17T22:35:13.755163Z",
     "iopub.status.busy": "2025-10-17T22:35:13.754355Z",
     "iopub.status.idle": "2025-10-17T22:35:16.993869Z",
     "shell.execute_reply": "2025-10-17T22:35:16.992790Z",
     "shell.execute_reply.started": "2025-10-17T22:35:13.755129Z"
    }
   },
   "outputs": [
    {
     "name": "stdout",
     "output_type": "stream",
     "text": [
      "Saved splits to out/splits.json\n",
      "Saved fusion results to out/fusion_results.json\n",
      "Saved bootstrap CIs to out/bootstrap_ci.json\n",
      "Wrote out/fusion_table.csv\n",
      "Synthetic demo complete. See out/*.csv and out/*.json\n",
      "Done. Outputs in ./out\n"
     ]
    }
   ],
   "source": [
    "import os, sys, subprocess\n",
    "# ensure we're at repo root\n",
    "from pathlib import Path\n",
    "if Path.cwd().name == \"notebooks\":  # if you’re inside notebooks/\n",
    "    os.chdir(Path.cwd().parent)\n",
    "\n",
    "# (optional) set PYTHONPATH anyway—never hurts\n",
    "os.environ[\"PYTHONPATH\"] = os.getcwd()\n",
    "\n",
    "# run as a module so relative imports definitely work\n",
    "subprocess.check_call([sys.executable, \"-m\", \"scripts.run_synthetic_demo\"])\n",
    "print(\"Done. Outputs in ./out\")\n",
    "\n"
   ]
  },
  {
   "cell_type": "markdown",
   "metadata": {},
   "source": [
    "## 2) Load fusion table"
   ]
  },
  {
   "cell_type": "code",
   "execution_count": 5,
   "metadata": {
    "execution": {
     "iopub.execute_input": "2025-10-17T22:35:21.949819Z",
     "iopub.status.busy": "2025-10-17T22:35:21.949187Z",
     "iopub.status.idle": "2025-10-17T22:35:21.966349Z",
     "shell.execute_reply": "2025-10-17T22:35:21.965542Z",
     "shell.execute_reply.started": "2025-10-17T22:35:21.949790Z"
    }
   },
   "outputs": [
    {
     "data": {
      "text/html": [
       "<div>\n",
       "<style scoped>\n",
       "    .dataframe tbody tr th:only-of-type {\n",
       "        vertical-align: middle;\n",
       "    }\n",
       "\n",
       "    .dataframe tbody tr th {\n",
       "        vertical-align: top;\n",
       "    }\n",
       "\n",
       "    .dataframe thead th {\n",
       "        text-align: right;\n",
       "    }\n",
       "</style>\n",
       "<table border=\"1\" class=\"dataframe\">\n",
       "  <thead>\n",
       "    <tr style=\"text-align: right;\">\n",
       "      <th></th>\n",
       "      <th>Model</th>\n",
       "      <th>AUROC</th>\n",
       "      <th>Brier</th>\n",
       "      <th>ECE</th>\n",
       "      <th>Acc</th>\n",
       "      <th>F1</th>\n",
       "    </tr>\n",
       "  </thead>\n",
       "  <tbody>\n",
       "    <tr>\n",
       "      <th>0</th>\n",
       "      <td>best_metrics</td>\n",
       "      <td>0.732334</td>\n",
       "      <td>0.220674</td>\n",
       "      <td>0.134032</td>\n",
       "      <td>0.634000</td>\n",
       "      <td>0.607577</td>\n",
       "    </tr>\n",
       "    <tr>\n",
       "      <th>1</th>\n",
       "      <td>weighted</td>\n",
       "      <td>0.734121</td>\n",
       "      <td>0.226073</td>\n",
       "      <td>0.157179</td>\n",
       "      <td>0.662667</td>\n",
       "      <td>0.625185</td>\n",
       "    </tr>\n",
       "    <tr>\n",
       "      <th>2</th>\n",
       "      <td>stacking</td>\n",
       "      <td>0.774144</td>\n",
       "      <td>0.185445</td>\n",
       "      <td>0.043290</td>\n",
       "      <td>0.724667</td>\n",
       "      <td>0.602502</td>\n",
       "    </tr>\n",
       "  </tbody>\n",
       "</table>\n",
       "</div>"
      ],
      "text/plain": [
       "          Model     AUROC     Brier       ECE       Acc        F1\n",
       "0  best_metrics  0.732334  0.220674  0.134032  0.634000  0.607577\n",
       "1      weighted  0.734121  0.226073  0.157179  0.662667  0.625185\n",
       "2      stacking  0.774144  0.185445  0.043290  0.724667  0.602502"
      ]
     },
     "execution_count": 5,
     "metadata": {},
     "output_type": "execute_result"
    }
   ],
   "source": [
    "fusion_df = pd.read_csv('out/fusion_table.csv')\n",
    "fusion_df\n"
   ]
  },
  {
   "cell_type": "markdown",
   "metadata": {},
   "source": [
    "## 3) Load bootstrap CI results and show a quick chart"
   ]
  },
  {
   "cell_type": "code",
   "execution_count": 6,
   "metadata": {
    "execution": {
     "iopub.execute_input": "2025-10-17T22:35:25.715008Z",
     "iopub.status.busy": "2025-10-17T22:35:25.714074Z",
     "iopub.status.idle": "2025-10-17T22:35:25.721649Z",
     "shell.execute_reply": "2025-10-17T22:35:25.720668Z",
     "shell.execute_reply.started": "2025-10-17T22:35:25.714977Z"
    }
   },
   "outputs": [
    {
     "data": {
      "text/plain": [
       "{'auroc': [0.7340338116981476, 0.7207255005084586, 0.7471056937601606],\n",
       " 'brier': [0.21958011785853188, 0.21616261691376468, 0.22302971742561967],\n",
       " 'ece': [0.11199672864255035, 0.0961511081031968, 0.1295454785992536],\n",
       " 'eo': [0.10787298769814647, 0.06720783497286847, 0.14983986802130705]}"
      ]
     },
     "execution_count": 6,
     "metadata": {},
     "output_type": "execute_result"
    }
   ],
   "source": [
    "with open('out/bootstrap_ci.json') as f:\n",
    "    ci = json.load(f)\n",
    "ci\n"
   ]
  },
  {
   "cell_type": "code",
   "execution_count": 7,
   "metadata": {
    "execution": {
     "iopub.execute_input": "2025-10-17T22:35:28.292618Z",
     "iopub.status.busy": "2025-10-17T22:35:28.291770Z",
     "iopub.status.idle": "2025-10-17T22:35:28.438872Z",
     "shell.execute_reply": "2025-10-17T22:35:28.438106Z",
     "shell.execute_reply.started": "2025-10-17T22:35:28.292587Z"
    }
   },
   "outputs": [
    {
     "data": {
      "image/png": "[encoded data removed]",
      "text/plain": [
       "<Figure size 640x480 with 1 Axes>"
      ]
     },
     "metadata": {},
     "output_type": "display_data"
    }
   ],
   "source": [
    "vals = ci['auroc']  # [mean, lo, hi]\n",
    "mean_auc, lo, hi = vals\n",
    "err_lo = mean_auc - lo\n",
    "err_hi = hi - mean_auc\n",
    "plt.figure()\n",
    "plt.errorbar([0],[mean_auc], yerr=[[err_lo],[err_hi]])\n",
    "plt.title('AUROC (mean ± 95% CI)')\n",
    "plt.ylabel('AUROC')\n",
    "plt.xticks([])\n",
    "plt.show()\n"
   ]
  }
 ],
 "metadata": {
  "kernelspec": {
   "display_name": "Python 3 (ipykernel)",
   "language": "python",
   "name": "python3"
  },
  "language_info": {
   "codemirror_mode": {
    "name": "ipython",
    "version": 3
   },
   "file_extension": ".py",
   "mimetype": "text/x-python",
   "name": "python",
   "nbconvert_exporter": "python",
   "pygments_lexer": "ipython3",
   "version": "3.11.7"
  }
 },
 "nbformat": 4,
 "nbformat_minor": 4
}
