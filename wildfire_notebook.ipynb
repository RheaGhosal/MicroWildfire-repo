{
 "cells": [
  {
   "cell_type": "markdown",
   "metadata": {},
   "source": [
    "# Reproduce Tables & Figures\n",
    "_Generated: 2025-10-17_\n",
    "\n",
    "This notebook demonstrates the full evaluation protocol on **synthetic data** (no datasets required):\n",
    "1. Runs the end-to-end synthetic demo.\n",
    "2. Loads outputs from `out/`.\n",
    "3. Displays fusion results and bootstrap confidence intervals.\n"
   ]
  },
  {
   "cell_type": "code",
   "execution_count": 26,
   "metadata": {
    "execution": {
     "iopub.execute_input": "2025-10-18T03:24:12.067883Z",
     "iopub.status.busy": "2025-10-18T03:24:12.067414Z",
     "iopub.status.idle": "2025-10-18T03:24:13.694822Z",
     "shell.execute_reply": "2025-10-18T03:24:13.694327Z",
     "shell.execute_reply.started": "2025-10-18T03:24:12.067854Z"
    }
   },
   "outputs": [
    {
     "name": "stdout",
     "output_type": "stream",
     "text": [
      "Python: 3.11.7 (main, Dec  8 2023, 18:56:58) [GCC 11.4.0]\n",
      "CWD: /notebooks/MicroWildfire-repo\n"
     ]
    }
   ],
   "source": [
    "import os, sys, subprocess, json, pandas as pd, matplotlib.pyplot as plt\n",
    "from pathlib import Path\n",
    "print('Python:', sys.version)\n",
    "print('CWD:', os.getcwd())\n"
   ]
  },
  {
   "cell_type": "markdown",
   "metadata": {},
   "source": [
    "## 1) Run the synthetic demo\n",
    "This mirrors the CLI steps in the README and writes CSV/JSON to `out/`."
   ]
  },
  {
   "cell_type": "code",
   "execution_count": 37,
   "metadata": {
    "execution": {
     "iopub.execute_input": "2025-10-18T04:22:38.334921Z",
     "iopub.status.busy": "2025-10-18T04:22:38.334625Z",
     "iopub.status.idle": "2025-10-18T04:22:41.453597Z",
     "shell.execute_reply": "2025-10-18T04:22:41.452814Z",
     "shell.execute_reply.started": "2025-10-18T04:22:38.334901Z"
    }
   },
   "outputs": [
    {
     "name": "stdout",
     "output_type": "stream",
     "text": [
      "/notebooks/MicroWildfire-repo\n",
      "/notebooks/MicroWildfire-repo\n",
      "Requirement already satisfied: numpy>=1.25 in /usr/local/lib/python3.11/dist-packages (from -r requirements.txt (line 1)) (1.26.3)\n",
      "Requirement already satisfied: pandas>=2.0 in /usr/local/lib/python3.11/dist-packages (from -r requirements.txt (line 2)) (2.2.0)\n",
      "Requirement already satisfied: matplotlib>=3.8 in /usr/local/lib/python3.11/dist-packages (from -r requirements.txt (line 3)) (3.10.7)\n",
      "Requirement already satisfied: scikit-learn>=1.3 in /usr/local/lib/python3.11/dist-packages (from -r requirements.txt (line 4)) (1.3.0)\n",
      "Requirement already satisfied: torch>=2.1 in /usr/local/lib/python3.11/dist-packages (from -r requirements.txt (line 5)) (2.1.1+cu121)\n",
      "Requirement already satisfied: tqdm in /usr/local/lib/python3.11/dist-packages (from -r requirements.txt (line 6)) (4.66.1)\n",
      "Requirement already satisfied: PyYAML in /usr/lib/python3/dist-packages (from -r requirements.txt (line 7)) (5.4.1)\n",
      "Requirement already satisfied: seaborn in /usr/local/lib/python3.11/dist-packages (from -r requirements.txt (line 8)) (0.12.2)\n",
      "Requirement already satisfied: python-dateutil>=2.8.2 in /usr/local/lib/python3.11/dist-packages (from pandas>=2.0->-r requirements.txt (line 2)) (2.8.2)\n",
      "Requirement already satisfied: pytz>=2020.1 in /usr/lib/python3/dist-packages (from pandas>=2.0->-r requirements.txt (line 2)) (2022.1)\n",
      "Requirement already satisfied: tzdata>=2022.7 in /usr/local/lib/python3.11/dist-packages (from pandas>=2.0->-r requirements.txt (line 2)) (2023.4)\n",
      "Requirement already satisfied: contourpy>=1.0.1 in /usr/local/lib/python3.11/dist-packages (from matplotlib>=3.8->-r requirements.txt (line 3)) (1.2.0)\n",
      "Requirement already satisfied: cycler>=0.10 in /usr/local/lib/python3.11/dist-packages (from matplotlib>=3.8->-r requirements.txt (line 3)) (0.12.1)\n",
      "Requirement already satisfied: fonttools>=4.22.0 in /usr/local/lib/python3.11/dist-packages (from matplotlib>=3.8->-r requirements.txt (line 3)) (4.47.2)\n",
      "Requirement already satisfied: kiwisolver>=1.3.1 in /usr/local/lib/python3.11/dist-packages (from matplotlib>=3.8->-r requirements.txt (line 3)) (1.4.5)\n",
      "Requirement already satisfied: packaging>=20.0 in /usr/local/lib/python3.11/dist-packages (from matplotlib>=3.8->-r requirements.txt (line 3)) (23.2)\n",
      "Requirement already satisfied: pillow>=8 in /usr/local/lib/python3.11/dist-packages (from matplotlib>=3.8->-r requirements.txt (line 3)) (9.5.0)\n",
      "Requirement already satisfied: pyparsing>=3 in /usr/local/lib/python3.11/dist-packages (from matplotlib>=3.8->-r requirements.txt (line 3)) (3.2.5)\n",
      "Requirement already satisfied: scipy>=1.5.0 in /usr/local/lib/python3.11/dist-packages (from scikit-learn>=1.3->-r requirements.txt (line 4)) (1.11.2)\n",
      "Requirement already satisfied: joblib>=1.1.1 in /usr/local/lib/python3.11/dist-packages (from scikit-learn>=1.3->-r requirements.txt (line 4)) (1.3.2)\n",
      "Requirement already satisfied: threadpoolctl>=2.0.0 in /usr/local/lib/python3.11/dist-packages (from scikit-learn>=1.3->-r requirements.txt (line 4)) (3.2.0)\n",
      "Requirement already satisfied: filelock in /usr/local/lib/python3.11/dist-packages (from torch>=2.1->-r requirements.txt (line 5)) (3.13.1)\n",
      "Requirement already satisfied: typing-extensions in /usr/local/lib/python3.11/dist-packages (from torch>=2.1->-r requirements.txt (line 5)) (4.9.0)\n",
      "Requirement already satisfied: sympy in /usr/local/lib/python3.11/dist-packages (from torch>=2.1->-r requirements.txt (line 5)) (1.12)\n",
      "Requirement already satisfied: networkx in /usr/local/lib/python3.11/dist-packages (from torch>=2.1->-r requirements.txt (line 5)) (3.2.1)\n",
      "Requirement already satisfied: jinja2 in /usr/local/lib/python3.11/dist-packages (from torch>=2.1->-r requirements.txt (line 5)) (3.1.3)\n",
      "Requirement already satisfied: fsspec in /usr/local/lib/python3.11/dist-packages (from torch>=2.1->-r requirements.txt (line 5)) (2023.6.0)\n",
      "Requirement already satisfied: triton==2.1.0 in /usr/local/lib/python3.11/dist-packages (from torch>=2.1->-r requirements.txt (line 5)) (2.1.0)\n",
      "Requirement already satisfied: six>=1.5 in /usr/lib/python3/dist-packages (from python-dateutil>=2.8.2->pandas>=2.0->-r requirements.txt (line 2)) (1.16.0)\n",
      "Requirement already satisfied: MarkupSafe>=2.0 in /usr/local/lib/python3.11/dist-packages (from jinja2->torch>=2.1->-r requirements.txt (line 5)) (2.1.4)\n",
      "Requirement already satisfied: mpmath>=0.19 in /usr/local/lib/python3.11/dist-packages (from sympy->torch>=2.1->-r requirements.txt (line 5)) (1.3.0)\n",
      "\u001b[33mWARNING: Running pip as the 'root' user can result in broken permissions and conflicting behaviour with the system package manager. It is recommended to use a virtual environment instead: https://pip.pypa.io/warnings/venv\u001b[0m\u001b[33m\n",
      "\u001b[0m"
     ]
    }
   ],
   "source": [
    "from pathlib import Path\n",
    "import zipfile, os\n",
    "\n",
    "base = Path(\"/notebooks\")            # adjust if your notebook cwd differs\n",
    "\n",
    "repo = base / \"MicroWildfire-repo\"        # prefer your existing folder name\n",
    "%cd $repo\n",
    "print(os.getcwd())\n",
    "!pip  install -r requirements.txt\n",
    "\n"
   ]
  },
  {
   "cell_type": "code",
   "execution_count": 39,
   "metadata": {
    "execution": {
     "iopub.execute_input": "2025-10-18T04:24:30.007045Z",
     "iopub.status.busy": "2025-10-18T04:24:30.006752Z",
     "iopub.status.idle": "2025-10-18T04:24:32.962436Z",
     "shell.execute_reply": "2025-10-18T04:24:32.961830Z",
     "shell.execute_reply.started": "2025-10-18T04:24:30.007023Z"
    }
   },
   "outputs": [
    {
     "name": "stdout",
     "output_type": "stream",
     "text": [
      "Saved splits to out/splits.json\n",
      "Saved fusion results to out/fusion_results.json\n",
      "Saved fusion results to out/fusion_results.json\n",
      "Saved bootstrap CIs to out/bootstrap_ci.json\n",
      "Wrote out/fusion_table.csv\n",
      "Synthetic demo complete. See out/*.csv and out/*.json\n",
      "Done. Outputs in ./out\n",
      "Files in out/:\n",
      " - fusion_results.json\n",
      " - splits.json\n",
      " - bootstrap_ci.json\n",
      " - fusion_table.csv\n"
     ]
    },
    {
     "data": {
      "text/plain": [
       "{'auroc': [0.7340338116981476, 0.7207255005084586, 0.7471056937601606],\n",
       " 'brier': [0.21958011785853188, 0.21616261691376468, 0.22302971742561967],\n",
       " 'ece': [0.11199672864255035, 0.0961511081031968, 0.1295454785992536],\n",
       " 'eo': {'mean': 0.10787298769814647,\n",
       "  'lo': 0.06720783497286847,\n",
       "  'hi': 0.14983986802130705},\n",
       " 'spd': {'mean': 0.08824882674844843,\n",
       "  'lo': 0.05164172539399566,\n",
       "  'hi': 0.13192575232663792},\n",
       " 'delta_fpr': {'mean': 0.056758106541117126,\n",
       "  'lo': 0.034225887420228994,\n",
       "  'hi': 0.08315744576623284}}"
      ]
     },
     "execution_count": 39,
     "metadata": {},
     "output_type": "execute_result"
    }
   ],
   "source": [
    "subprocess.check_call([sys.executable, 'scripts/run_synthetic_demo.py'])\n",
    "print('Done. Outputs in ./out')\n",
    "import pandas as pd, json, pathlib\n",
    "\n",
    "print(\"Files in out/:\")\n",
    "for p in pathlib.Path(\"out\").glob(\"*\"):\n",
    "    print(\" -\", p.name)\n",
    "\n",
    "# Fusion table\n",
    "pd.read_csv(\"out/fusion_table.csv\")\n",
    "\n",
    "# Bootstrap CIs\n",
    "with open(\"out/bootstrap_ci.json\") as f:\n",
    "    ci = json.load(f)\n",
    "ci\n"
   ]
  },
  {
   "cell_type": "markdown",
   "metadata": {},
   "source": [
    "## 2) Load fusion table"
   ]
  },
  {
   "cell_type": "code",
   "execution_count": 40,
   "metadata": {
    "execution": {
     "iopub.execute_input": "2025-10-18T04:25:54.704760Z",
     "iopub.status.busy": "2025-10-18T04:25:54.704045Z",
     "iopub.status.idle": "2025-10-18T04:25:54.716078Z",
     "shell.execute_reply": "2025-10-18T04:25:54.715343Z",
     "shell.execute_reply.started": "2025-10-18T04:25:54.704730Z"
    }
   },
   "outputs": [
    {
     "data": {
      "text/html": [
       "<div>\n",
       "<style scoped>\n",
       "    .dataframe tbody tr th:only-of-type {\n",
       "        vertical-align: middle;\n",
       "    }\n",
       "\n",
       "    .dataframe tbody tr th {\n",
       "        vertical-align: top;\n",
       "    }\n",
       "\n",
       "    .dataframe thead th {\n",
       "        text-align: right;\n",
       "    }\n",
       "</style>\n",
       "<table border=\"1\" class=\"dataframe\">\n",
       "  <thead>\n",
       "    <tr style=\"text-align: right;\">\n",
       "      <th></th>\n",
       "      <th>Model</th>\n",
       "      <th>AUROC</th>\n",
       "      <th>Brier</th>\n",
       "      <th>ECE</th>\n",
       "      <th>Acc</th>\n",
       "      <th>F1</th>\n",
       "    </tr>\n",
       "  </thead>\n",
       "  <tbody>\n",
       "    <tr>\n",
       "      <th>0</th>\n",
       "      <td>best_metrics</td>\n",
       "      <td>0.739429</td>\n",
       "      <td>0.218102</td>\n",
       "      <td>0.114077</td>\n",
       "      <td>0.653333</td>\n",
       "      <td>0.638889</td>\n",
       "    </tr>\n",
       "    <tr>\n",
       "      <th>1</th>\n",
       "      <td>weighted</td>\n",
       "      <td>0.721000</td>\n",
       "      <td>0.227332</td>\n",
       "      <td>0.146659</td>\n",
       "      <td>0.642000</td>\n",
       "      <td>0.616702</td>\n",
       "    </tr>\n",
       "    <tr>\n",
       "      <th>2</th>\n",
       "      <td>stacking</td>\n",
       "      <td>0.777309</td>\n",
       "      <td>0.187047</td>\n",
       "      <td>0.037209</td>\n",
       "      <td>0.711333</td>\n",
       "      <td>0.600185</td>\n",
       "    </tr>\n",
       "  </tbody>\n",
       "</table>\n",
       "</div>"
      ],
      "text/plain": [
       "          Model     AUROC     Brier       ECE       Acc        F1\n",
       "0  best_metrics  0.739429  0.218102  0.114077  0.653333  0.638889\n",
       "1      weighted  0.721000  0.227332  0.146659  0.642000  0.616702\n",
       "2      stacking  0.777309  0.187047  0.037209  0.711333  0.600185"
      ]
     },
     "execution_count": 40,
     "metadata": {},
     "output_type": "execute_result"
    }
   ],
   "source": [
    "fusion_df = pd.read_csv('out/fusion_table.csv')\n",
    "fusion_df\n"
   ]
  },
  {
   "cell_type": "markdown",
   "metadata": {},
   "source": [
    "## 3) Load bootstrap CI results and show a quick chart"
   ]
  },
  {
   "cell_type": "code",
   "execution_count": 41,
   "metadata": {
    "execution": {
     "iopub.execute_input": "2025-10-18T04:25:58.353236Z",
     "iopub.status.busy": "2025-10-18T04:25:58.352950Z",
     "iopub.status.idle": "2025-10-18T04:25:58.358332Z",
     "shell.execute_reply": "2025-10-18T04:25:58.357764Z",
     "shell.execute_reply.started": "2025-10-18T04:25:58.353214Z"
    }
   },
   "outputs": [
    {
     "data": {
      "text/plain": [
       "{'auroc': [0.7340338116981476, 0.7207255005084586, 0.7471056937601606],\n",
       " 'brier': [0.21958011785853188, 0.21616261691376468, 0.22302971742561967],\n",
       " 'ece': [0.11199672864255035, 0.0961511081031968, 0.1295454785992536],\n",
       " 'eo': {'mean': 0.10787298769814647,\n",
       "  'lo': 0.06720783497286847,\n",
       "  'hi': 0.14983986802130705},\n",
       " 'spd': {'mean': 0.08824882674844843,\n",
       "  'lo': 0.05164172539399566,\n",
       "  'hi': 0.13192575232663792},\n",
       " 'delta_fpr': {'mean': 0.056758106541117126,\n",
       "  'lo': 0.034225887420228994,\n",
       "  'hi': 0.08315744576623284}}"
      ]
     },
     "execution_count": 41,
     "metadata": {},
     "output_type": "execute_result"
    }
   ],
   "source": [
    "with open('out/bootstrap_ci.json') as f:\n",
    "    ci = json.load(f)\n",
    "ci\n"
   ]
  },
  {
   "cell_type": "code",
   "execution_count": null,
   "metadata": {},
   "outputs": [],
   "source": [
    "vals = ci['auroc']  # [mean, lo, hi]\n",
    "mean_auc, lo, hi = vals\n",
    "err_lo = mean_auc - lo\n",
    "err_hi = hi - mean_auc\n",
    "plt.figure()\n",
    "plt.errorbar([0],[mean_auc], yerr=[[err_lo],[err_hi]])\n",
    "plt.title('AUROC (mean ± 95% CI)')\n",
    "plt.ylabel('AUROC')\n",
    "plt.xticks([])\n",
    "plt.show()\n"
   ]
  },
  {
   "cell_type": "code",
   "execution_count": 31,
   "metadata": {
    "execution": {
     "iopub.execute_input": "2025-10-18T03:26:43.304197Z",
     "iopub.status.busy": "2025-10-18T03:26:43.303904Z",
     "iopub.status.idle": "2025-10-18T03:26:43.315563Z",
     "shell.execute_reply": "2025-10-18T03:26:43.314461Z",
     "shell.execute_reply.started": "2025-10-18T03:26:43.304174Z"
    }
   },
   "outputs": [
    {
     "name": "stdout",
     "output_type": "stream",
     "text": [
      "Patched scripts/run_fusion.py\n"
     ]
    }
   ],
   "source": [
    "# A) Patch scripts/run_fusion.py with _to_native and wrap all dumps\n",
    "from pathlib import Path, PurePath\n",
    "p = Path(\"scripts/run_fusion.py\")\n",
    "txt = p.read_text()\n",
    "\n",
    "san = \"\"\"\n",
    "# --- JSON sanitizer: convert numpy dtypes/keys to native types ---\n",
    "def _to_native(obj):\n",
    "    import numpy as np\n",
    "    if isinstance(obj, dict):\n",
    "        out = {}\n",
    "        for k, v in obj.items():\n",
    "            if isinstance(k, np.generic):\n",
    "                k = k.item()\n",
    "            out[str(k)] = _to_native(v)\n",
    "        return out\n",
    "    elif isinstance(obj, (list, tuple)):\n",
    "        return [_to_native(x) for x in obj]\n",
    "    else:\n",
    "        try:\n",
    "            import numpy as np\n",
    "            if isinstance(obj, np.generic):\n",
    "                return obj.item()\n",
    "        except Exception:\n",
    "            pass\n",
    "        return obj\n",
    "\"\"\"\n",
    "\n",
    "if \"_to_native(\" not in txt:\n",
    "    # insert after the imports block\n",
    "    txt = txt.replace(\"from src.metrics import compute_eo_spd_delta_fpr, auroc\\n\",\n",
    "                      \"from src.metrics import compute_eo_spd_delta_fpr, auroc\\n\" + san)\n",
    "\n",
    "# wrap ALL json.dump calls\n",
    "txt = txt.replace(\"json.dump(out, open(\\\"out/fusion_results.json\\\",\\\"w\\\"), indent=2)\",\n",
    "                  \"json.dump(_to_native(out), open(\\\"out/fusion_results.json\\\",\\\"w\\\"), indent=2)\")\n",
    "txt = txt.replace(\"json.dump(dict(weighted=res_w, stacking=res_s, best_single=best_name, best_metrics=res_b), open(\\\"out/fusion_results.json\\\",\\\"w\\\"), indent=2)\",\n",
    "                  \"json.dump(_to_native(dict(weighted=res_w, stacking=res_s, best_single=best_name, best_metrics=res_b)), open(\\\"out/fusion_results.json\\\",\\\"w\\\"), indent=2)\")\n",
    "\n",
    "p.write_text(txt)\n",
    "print(\"Patched scripts/run_fusion.py\")\n",
    "\n",
    "# B) Patch src/metrics.py to string-ify per_group keys\n",
    "pm = Path(\"src/metrics.py\")\n",
    "t2 = pm.read_text()\n",
    "if \"def compute_eo_spd_delta_fpr\" in t2 and \"per_group=\" in t2 and \"str(k)\" not in t2:\n",
    "    t2 = t2.replace(\"per_group=stats\", \"per_group={str(k): v for k, v in stats.items()}\")\n",
    "    pm.write_text(t2)\n",
    "    print(\"Patched src/metrics.py to stringify per_group keys\")\n",
    "\n"
   ]
  },
  {
   "cell_type": "code",
   "execution_count": 32,
   "metadata": {
    "execution": {
     "iopub.execute_input": "2025-10-18T03:27:22.278172Z",
     "iopub.status.busy": "2025-10-18T03:27:22.277880Z",
     "iopub.status.idle": "2025-10-18T03:27:23.027172Z",
     "shell.execute_reply": "2025-10-18T03:27:23.026312Z",
     "shell.execute_reply.started": "2025-10-18T03:27:22.278149Z"
    }
   },
   "outputs": [
    {
     "name": "stdout",
     "output_type": "stream",
     "text": [
      "Return code: 0\n",
      "=== STDOUT ===\n",
      " Saved fusion results to out/fusion_results.json\n",
      "Saved fusion results to out/fusion_results.json\n",
      "\n",
      "=== STDERR ===\n",
      " \n"
     ]
    }
   ],
   "source": [
    "import os, sys, subprocess\n",
    "from pathlib import Path\n",
    "env = os.environ.copy(); env[\"PYTHONPATH\"] = str(Path.cwd())\n",
    "\n",
    "proc = subprocess.run(\n",
    "    [sys.executable, \"-m\", \"scripts.run_fusion\", \"--config\", \"configs/config.yaml\"],\n",
    "    capture_output=True, text=True, env=env\n",
    ")\n",
    "print(\"Return code:\", proc.returncode)\n",
    "print(\"=== STDOUT ===\\n\", proc.stdout)\n",
    "print(\"=== STDERR ===\\n\", proc.stderr)\n"
   ]
  },
  {
   "cell_type": "code",
   "execution_count": 34,
   "metadata": {
    "execution": {
     "iopub.execute_input": "2025-10-18T03:36:10.680994Z",
     "iopub.status.busy": "2025-10-18T03:36:10.680274Z",
     "iopub.status.idle": "2025-10-18T03:36:12.244063Z",
     "shell.execute_reply": "2025-10-18T03:36:12.243303Z",
     "shell.execute_reply.started": "2025-10-18T03:36:10.680965Z"
    }
   },
   "outputs": [
    {
     "name": "stdout",
     "output_type": "stream",
     "text": [
      "Saved bootstrap CIs to out/bootstrap_ci.json\n",
      "Wrote out/fusion_table.csv\n"
     ]
    },
    {
     "data": {
      "text/plain": [
       "CompletedProcess(args=['/usr/local/bin/python3', '-m', 'scripts.reproduce_tables', '--config', 'configs/config.yaml'], returncode=0)"
      ]
     },
     "execution_count": 34,
     "metadata": {},
     "output_type": "execute_result"
    }
   ],
   "source": [
    "subprocess.run([sys.executable, \"-m\", \"scripts.run_bootstrap_ci\", \"--config\", \"configs/config.yaml\"],\n",
    "               check=True, env=env)\n",
    "subprocess.run([sys.executable, \"-m\", \"scripts.reproduce_tables\", \"--config\", \"configs/config.yaml\"],\n",
    "               check=True, env=env)\n"
   ]
  },
  {
   "cell_type": "code",
   "execution_count": 35,
   "metadata": {
    "execution": {
     "iopub.execute_input": "2025-10-18T03:37:05.909396Z",
     "iopub.status.busy": "2025-10-18T03:37:05.909092Z",
     "iopub.status.idle": "2025-10-18T03:37:05.940553Z",
     "shell.execute_reply": "2025-10-18T03:37:05.939767Z",
     "shell.execute_reply.started": "2025-10-18T03:37:05.909372Z"
    }
   },
   "outputs": [
    {
     "name": "stdout",
     "output_type": "stream",
     "text": [
      "['fusion_results.json', 'splits.json', 'bootstrap_ci.json', 'fusion_table.csv']\n"
     ]
    },
    {
     "data": {
      "text/html": [
       "<div>\n",
       "<style scoped>\n",
       "    .dataframe tbody tr th:only-of-type {\n",
       "        vertical-align: middle;\n",
       "    }\n",
       "\n",
       "    .dataframe tbody tr th {\n",
       "        vertical-align: top;\n",
       "    }\n",
       "\n",
       "    .dataframe thead th {\n",
       "        text-align: right;\n",
       "    }\n",
       "</style>\n",
       "<table border=\"1\" class=\"dataframe\">\n",
       "  <thead>\n",
       "    <tr style=\"text-align: right;\">\n",
       "      <th></th>\n",
       "      <th>Model</th>\n",
       "      <th>AUROC</th>\n",
       "      <th>Brier</th>\n",
       "      <th>ECE</th>\n",
       "      <th>Acc</th>\n",
       "      <th>F1</th>\n",
       "    </tr>\n",
       "  </thead>\n",
       "  <tbody>\n",
       "    <tr>\n",
       "      <th>0</th>\n",
       "      <td>best_metrics</td>\n",
       "      <td>0.724097</td>\n",
       "      <td>0.223759</td>\n",
       "      <td>0.131264</td>\n",
       "      <td>0.652000</td>\n",
       "      <td>0.607519</td>\n",
       "    </tr>\n",
       "    <tr>\n",
       "      <th>1</th>\n",
       "      <td>weighted</td>\n",
       "      <td>0.729713</td>\n",
       "      <td>0.227162</td>\n",
       "      <td>0.173400</td>\n",
       "      <td>0.666000</td>\n",
       "      <td>0.596943</td>\n",
       "    </tr>\n",
       "    <tr>\n",
       "      <th>2</th>\n",
       "      <td>stacking</td>\n",
       "      <td>0.762743</td>\n",
       "      <td>0.189882</td>\n",
       "      <td>0.035124</td>\n",
       "      <td>0.704667</td>\n",
       "      <td>0.557443</td>\n",
       "    </tr>\n",
       "  </tbody>\n",
       "</table>\n",
       "</div>"
      ],
      "text/plain": [
       "          Model     AUROC     Brier       ECE       Acc        F1\n",
       "0  best_metrics  0.724097  0.223759  0.131264  0.652000  0.607519\n",
       "1      weighted  0.729713  0.227162  0.173400  0.666000  0.596943\n",
       "2      stacking  0.762743  0.189882  0.035124  0.704667  0.557443"
      ]
     },
     "metadata": {},
     "output_type": "display_data"
    },
    {
     "name": "stdout",
     "output_type": "stream",
     "text": [
      "AUROC: [0.7340338116981476, 0.7207255005084586, 0.7471056937601606]\n",
      "EO: {'mean': 0.10787298769814647, 'lo': 0.06720783497286847, 'hi': 0.14983986802130705}\n",
      "SPD: {'mean': 0.08824882674844843, 'lo': 0.05164172539399566, 'hi': 0.13192575232663792}\n",
      "ΔFPR: {'mean': 0.056758106541117126, 'lo': 0.034225887420228994, 'hi': 0.08315744576623284}\n"
     ]
    }
   ],
   "source": [
    "import json, pandas as pd, pathlib\n",
    "print([p.name for p in pathlib.Path(\"out\").glob(\"*\")])\n",
    "\n",
    "display(pd.read_csv(\"out/fusion_table.csv\"))\n",
    "with open(\"out/bootstrap_ci.json\") as f:\n",
    "    ci = json.load(f)\n",
    "\n",
    "# Quick glance: AUROC list and fairness dicts\n",
    "print(\"AUROC:\", ci[\"auroc\"])\n",
    "print(\"EO:\", ci[\"eo\"])\n",
    "print(\"SPD:\", ci[\"spd\"])\n",
    "print(\"ΔFPR:\", ci[\"delta_fpr\"])\n"
   ]
  },
  {
   "cell_type": "code",
   "execution_count": null,
   "metadata": {},
   "outputs": [],
   "source": []
  }
 ],
 "metadata": {
  "kernelspec": {
   "display_name": "Python 3 (ipykernel)",
   "language": "python",
   "name": "python3"
  },
  "language_info": {
   "codemirror_mode": {
    "name": "ipython",
    "version": 3
   },
   "file_extension": ".py",
   "mimetype": "text/x-python",
   "name": "python",
   "nbconvert_exporter": "python",
   "pygments_lexer": "ipython3",
   "version": "3.11.7"
  }
 },
 "nbformat": 4,
 "nbformat_minor": 4
}
